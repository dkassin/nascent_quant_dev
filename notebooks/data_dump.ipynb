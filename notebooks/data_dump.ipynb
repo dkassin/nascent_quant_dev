{
 "cells": [
  {
   "cell_type": "code",
   "execution_count": null,
   "metadata": {},
   "outputs": [],
   "source": [
    "start_value = data['equity_curve'].iloc[0]\n",
    "end_value = data['equity_curve'].iloc[-1]\n",
    "expected_cumulative_return = (end_value - start_value) / start_value\n",
    "\n",
    "data['cumulative_equity_returns'] = (1 + data['equity_returns']).cumprod()\n",
    "\n",
    "plt.figure(figsize=(14, 7))\n",
    "plt.plot(data['cumulative_equity_returns'], label='Cumulative Equity Returns')\n",
    "plt.title('Cumulative Equity Returns Over Time')\n",
    "plt.xlabel('Time')\n",
    "plt.ylabel('Cumulative Returns')\n",
    "plt.legend()\n",
    "plt.show()\n",
    "\n",
    "final_cumulative_return = data['cumulative_equity_returns'].iloc[-1] - 1\n",
    "print(f'Calculated Cumulative Return from Equity Returns: {final_cumulative_return:.4f}')\n",
    "\n",
    "print(data.head())\n",
    "print(data.info())"
   ]
  },
  {
   "cell_type": "code",
   "execution_count": null,
   "metadata": {},
   "outputs": [],
   "source": [
    "sell_quantiles = range(0, 5)\n",
    "buy_quantiles = range(8, 12)  \n",
    "\n",
    "def assign_trading_signals(data, quantile_summary, buy_quantiles, sell_quantiles):\n",
    "    # Assign quantiles to signals\n",
    "    bins = [-np.inf] + quantile_summary['signal']['max'].tolist() + [np.inf]\n",
    "    \n",
    "    data['signal_quantile'] = pd.cut(data['signal'], bins=bins, labels=False, include_lowest=True)\n",
    "    # Initialize trading signals\n",
    "    data['trade_signal'] = 0\n",
    "\n",
    "    # Assign buy and sell signals\n",
    "    data.loc[data['signal_quantile'].isin(buy_quantiles), 'trade_signal'] = 1\n",
    "    data.loc[data['signal_quantile'].isin(sell_quantiles), 'trade_signal'] = -1\n",
    "\n",
    "    data['strategy_returns'] = data['equity_returns'] * data['trade_signal']\n",
    "    data['cumulative_strategy_returns'] = (1 + data['strategy_returns']).cumprod() - 1\n",
    "\n",
    "    return data\n",
    "\n",
    "test_data_with_signals = assign_trading_signals(test_data, group_summary, buy_quantiles, sell_quantiles)\n",
    "print(test_data_with_signals[['signal', 'signal_quantile', 'trade_signal', 'equity_returns', 'strategy_returns', 'cumulative_strategy_returns']].head(20))\n",
    "\n",
    "\n",
    "plt.figure(figsize=(12, 6))\n",
    "plt.plot(test_data_with_signals['cumulative_strategy_returns'], label='Cumulative Strategy Returns')\n",
    "plt.xlabel('Time')\n",
    "plt.ylabel('Cumulative Returns')\n",
    "plt.title('Cumulative Strategy Returns Over Time')\n",
    "plt.legend()\n",
    "plt.show()\n"
   ]
  }
 ],
 "metadata": {
  "language_info": {
   "name": "python"
  }
 },
 "nbformat": 4,
 "nbformat_minor": 2
}
