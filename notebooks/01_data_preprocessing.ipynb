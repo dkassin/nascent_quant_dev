{
 "cells": [
  {
   "cell_type": "markdown",
   "metadata": {},
   "source": [
    "# Data Preprocessing\n",
    "## Introduction\n",
    "This notebook focuses on loading the raw data, performing initial data cleaning"
   ]
  },
  {
   "cell_type": "code",
   "execution_count": 3,
   "metadata": {},
   "outputs": [
    {
     "name": "stdout",
     "output_type": "stream",
     "text": [
      "   Unnamed: 0    signal  equity_curve\n",
      "0           1 -0.023860      0.369910\n",
      "1           2 -0.010445      0.366245\n",
      "2           3 -0.007646      0.368794\n",
      "3           4 -0.000148      0.367254\n",
      "4           5 -0.011530      0.361481\n",
      "<class 'pandas.core.frame.DataFrame'>\n",
      "RangeIndex: 49998 entries, 0 to 49997\n",
      "Data columns (total 3 columns):\n",
      " #   Column        Non-Null Count  Dtype  \n",
      "---  ------        --------------  -----  \n",
      " 0   Unnamed: 0    49998 non-null  int64  \n",
      " 1   signal        49998 non-null  float64\n",
      " 2   equity_curve  49998 non-null  float64\n",
      "dtypes: float64(2), int64(1)\n",
      "memory usage: 1.1 MB\n",
      "None\n"
     ]
    }
   ],
   "source": [
    "\n",
    "import pandas as pd \n",
    "\n",
    "raw_data_path = \"../data/raw/sovereign_quant_developer_assignment_data.csv\"\n",
    "\n",
    "data = pd.read_csv(raw_data_path)\n",
    "\n",
    "print(data.head())\n",
    "print(data.info())\n",
    "\n"
   ]
  },
  {
   "cell_type": "markdown",
   "metadata": {},
   "source": [
    "## Data Cleaning"
   ]
  },
  {
   "cell_type": "code",
   "execution_count": 5,
   "metadata": {},
   "outputs": [
    {
     "name": "stdout",
     "output_type": "stream",
     "text": [
      "Non-numeric values in 'signal': 0\n",
      "Non-numeric values in 'equity_curve': 0\n",
      "   Unnamed: 0    signal  equity_curve\n",
      "0           1 -0.023860      0.369910\n",
      "1           2 -0.010445      0.366245\n",
      "2           3 -0.007646      0.368794\n",
      "3           4 -0.000148      0.367254\n",
      "4           5 -0.011530      0.361481\n",
      "<class 'pandas.core.frame.DataFrame'>\n",
      "RangeIndex: 49998 entries, 0 to 49997\n",
      "Data columns (total 3 columns):\n",
      " #   Column        Non-Null Count  Dtype  \n",
      "---  ------        --------------  -----  \n",
      " 0   Unnamed: 0    49998 non-null  int64  \n",
      " 1   signal        49998 non-null  float64\n",
      " 2   equity_curve  49998 non-null  float64\n",
      "dtypes: float64(2), int64(1)\n",
      "memory usage: 1.1 MB\n",
      "None\n",
      "   equity_curve  equity_returns\n",
      "0      0.369910       -0.009910\n",
      "1      0.366245        0.006960\n",
      "2      0.368794       -0.004174\n",
      "3      0.367254       -0.015721\n",
      "4      0.361481       -0.006456\n",
      "<class 'pandas.core.frame.DataFrame'>\n",
      "Index: 49997 entries, 0 to 49996\n",
      "Data columns (total 4 columns):\n",
      " #   Column          Non-Null Count  Dtype  \n",
      "---  ------          --------------  -----  \n",
      " 0   Unnamed: 0      49997 non-null  int64  \n",
      " 1   signal          49997 non-null  float64\n",
      " 2   equity_curve    49997 non-null  float64\n",
      " 3   equity_returns  49997 non-null  float64\n",
      "dtypes: float64(3), int64(1)\n",
      "memory usage: 1.9 MB\n",
      "None\n"
     ]
    }
   ],
   "source": [
    "data['signal'] = pd.to_numeric(data['signal'], errors='coerce')\n",
    "data['equity_curve'] = pd.to_numeric(data['equity_curve'], errors='coerce')\n",
    "\n",
    "non_numeric_signals = data['signal'].isna().sum()\n",
    "non_numeric_equity_curve = data['equity_curve'].isna().sum()\n",
    "\n",
    "print(f\"Non-numeric values in 'signal': {non_numeric_signals}\")\n",
    "print(f\"Non-numeric values in 'equity_curve': {non_numeric_equity_curve}\")\n",
    "\n",
    "data = data.dropna()\n",
    "\n",
    "print(data.head())\n",
    "print(data.info())\n"
   ]
  },
  {
   "cell_type": "markdown",
   "metadata": {},
   "source": [
    "In this analysis, we use the `equity_curve` column to represent the value of the portfolio over time. Each row in our dataset corresponds to a specific time period, with the index representing the passage of time sequentially from the start to the end of our dataset. \n"
   ]
  },
  {
   "cell_type": "code",
   "execution_count": 6,
   "metadata": {},
   "outputs": [
    {
     "name": "stdout",
     "output_type": "stream",
     "text": [
      "   equity_curve  equity_returns\n",
      "0      0.369910       -0.009910\n",
      "1      0.366245        0.006960\n",
      "2      0.368794       -0.004174\n",
      "3      0.367254       -0.015721\n",
      "4      0.361481       -0.006456\n",
      "<class 'pandas.core.frame.DataFrame'>\n",
      "Index: 49996 entries, 0 to 49995\n",
      "Data columns (total 4 columns):\n",
      " #   Column          Non-Null Count  Dtype  \n",
      "---  ------          --------------  -----  \n",
      " 0   Unnamed: 0      49996 non-null  int64  \n",
      " 1   signal          49996 non-null  float64\n",
      " 2   equity_curve    49996 non-null  float64\n",
      " 3   equity_returns  49996 non-null  float64\n",
      "dtypes: float64(3), int64(1)\n",
      "memory usage: 1.9 MB\n",
      "None\n"
     ]
    }
   ],
   "source": [
    "# Shift the returns to align with the signals\n",
    "\n",
    "data['equity_returns'] = data['equity_curve'].pct_change()\n",
    "data['equity_returns'] = data['equity_returns'].shift(-1)\n",
    "\n",
    "data = data.dropna()\n",
    "\n",
    "print(data[['equity_curve', 'equity_returns']].head())\n",
    "print(data.info())"
   ]
  }
 ],
 "metadata": {
  "kernelspec": {
   "display_name": "venv",
   "language": "python",
   "name": "python3"
  },
  "language_info": {
   "codemirror_mode": {
    "name": "ipython",
    "version": 3
   },
   "file_extension": ".py",
   "mimetype": "text/x-python",
   "name": "python",
   "nbconvert_exporter": "python",
   "pygments_lexer": "ipython3",
   "version": "3.9.6"
  }
 },
 "nbformat": 4,
 "nbformat_minor": 2
}
